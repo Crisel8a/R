{
 "cells": [
  {
   "cell_type": "markdown",
   "id": "93da37e8-7b82-4b8c-a3a5-07249aa3399e",
   "metadata": {},
   "source": [
    "<h1 align=\"center\" style=\"color: #5C5095;\"> <b> Primeros Pasos con R </b> </h1>"
   ]
  },
  {
   "cell_type": "markdown",
   "id": "d4d7278b-bb40-4f32-b0fa-aaee94eafd08",
   "metadata": {},
   "source": [
    "## Lenguajes de programación\n",
    "___\n",
    "\n",
    "Los lenguajes de programación se pueden categorizar como:\n",
    "    \n",
    "    - De alto y bajo nivel\n",
    "    \n",
    "    - Compilados e interpretados\n",
    "    \n",
    "    - General y de dominio específico\n",
    "    \n",
    "\n",
    "## Alto vs Bajo Nivel\n",
    "### Un ejemplo de un lenguaje de programación de bajo nivel **(lenguaje ensamblador)**:\n",
    "\n",
    "\n",
    "\n",
    "\n",
    "<img src=\"https://fotos.subefotos.com/40a32262323f1ce78797d6b073b3f73bo.png\" style = \"width: 300px; height: auto; margin-left: auto; margin-right: auto;margin-top:0 \"/>\n",
    "\n",
    "En el código anterior sólo se muestra en la pantalla el mensaje \"*Hello, world*\". Podemos ver que es bastante difícil poder entenderlo sin conocer el lenguaje.\n",
    "\n",
    "### Un ejemplo de un lenguaje de programación de alto nivel  **(R)**:"
   ]
  },
  {
   "cell_type": "markdown",
   "id": "9d82eafe-749c-46c3-afa3-b20590265ab2",
   "metadata": {},
   "source": [
    "\n",
    "# Hola mundo.\n",
    "\n",
    "Para imprimir en R no es neccesario llamar a ninguna función como \"print\" o \"cout\". \n",
    "Es suficiente con poner el texto que queramos imnprimir entre comillas dobles o simples.\n"
   ]
  },
  {
   "cell_type": "code",
   "execution_count": 6,
   "id": "f8672069-430f-47d0-8212-3f38b08853d0",
   "metadata": {},
   "outputs": [
    {
     "data": {
      "text/html": [
       "'hola mundo'"
      ],
      "text/latex": [
       "'hola mundo'"
      ],
      "text/markdown": [
       "'hola mundo'"
      ],
      "text/plain": [
       "[1] \"hola mundo\""
      ]
     },
     "metadata": {},
     "output_type": "display_data"
    }
   ],
   "source": [
    "'hola mundo'"
   ]
  },
  {
   "cell_type": "code",
   "execution_count": 7,
   "id": "19f83640-93be-4e63-84b4-4f68c33926c2",
   "metadata": {},
   "outputs": [
    {
     "data": {
      "text/html": [
       "'adios mundo'"
      ],
      "text/latex": [
       "'adios mundo'"
      ],
      "text/markdown": [
       "'adios mundo'"
      ],
      "text/plain": [
       "[1] \"adios mundo\""
      ]
     },
     "metadata": {},
     "output_type": "display_data"
    }
   ],
   "source": [
    "\"adios mundo\""
   ]
  },
  {
   "cell_type": "markdown",
   "id": "4f4e88ad-bd12-479a-a01b-6b21c98c4ba6",
   "metadata": {},
   "source": [
    "De cualquier mmanera, R también acepta la función print. "
   ]
  },
  {
   "cell_type": "code",
   "execution_count": null,
   "id": "0e162cd6-b365-44c8-9703-848222672c6c",
   "metadata": {},
   "outputs": [],
   "source": [
    "print(\"Hello World!\")"
   ]
  },
  {
   "cell_type": "markdown",
   "id": "8f5a4677-3600-4c63-8689-b9e3624bf792",
   "metadata": {},
   "source": [
    "Una parte importante en nuestros códigos son los comentarios, que nos pueden a guiarnos durante el programa sin perdernos y sin afectarlo. \n",
    "En R los comentarios se ponen con un signo de gato $#$. "
   ]
  },
  {
   "cell_type": "code",
   "execution_count": 8,
   "id": "3075b9b3-afb9-4230-a12f-fff0737bab30",
   "metadata": {},
   "outputs": [
    {
     "data": {
      "text/html": [
       "'esto no es un comentario'"
      ],
      "text/latex": [
       "'esto no es un comentario'"
      ],
      "text/markdown": [
       "'esto no es un comentario'"
      ],
      "text/plain": [
       "[1] \"esto no es un comentario\""
      ]
     },
     "metadata": {},
     "output_type": "display_data"
    }
   ],
   "source": [
    "'esto no es un comentario' #esto sí es un cometario"
   ]
  },
  {
   "cell_type": "markdown",
   "id": "cabd9edc-7ce1-41c7-96e0-93fb84e0fc42",
   "metadata": {},
   "source": [
    "Para juntar doos o más líneas de texto usamos la función paste().\n"
   ]
  },
  {
   "cell_type": "code",
   "execution_count": 28,
   "id": "20053b5b-f2b1-4d72-8173-db92fb7ee716",
   "metadata": {},
   "outputs": [
    {
     "data": {
      "text/html": [
       "'R es divertido'"
      ],
      "text/latex": [
       "'R es divertido'"
      ],
      "text/markdown": [
       "'R es divertido'"
      ],
      "text/plain": [
       "[1] \"R es divertido\""
      ]
     },
     "metadata": {},
     "output_type": "display_data"
    }
   ],
   "source": [
    "paste(\"R es\", \"divertido\")"
   ]
  },
  {
   "cell_type": "markdown",
   "id": "351946b3-d298-429b-8344-d0e194e058e9",
   "metadata": {},
   "source": [
    "Literalmente se muestra el mismo mensaje, pero vemos que sólo se necesitó una línea de código. Los lenguajes de alto nivel fueron diseñados para que su entendimiento sea más fácil.\n",
    "\n",
    "## Compilado vs Interpretado\n",
    "\n",
    "Un ejemplo de lenguaje compilado **(C++)**:\n",
    "\n",
    "\n",
    "\n",
    "\n",
    "<img src=\"https://fotos.subefotos.com/2e99656f5003705a3878c86a4f099995o.png\" style = \"width: 300px; height: auto; margin-left: auto; margin-right: auto;margin-top:0 \"/>\n",
    "\n",
    "Para correr un programa en C++ primero debe de compilarse, esto creará un archivo ejecutable. Realmente no se puede ejecutar el código, sino el ejecutable.\n",
    "\n",
    "Un ejemplo de lenguaje interpretado **(R)**:\n",
    "\n",
    "En R nosotros podemos dar una instrucción al intérprete y lo ejecutará devolviendonos un resultado al instante:\n",
    "\n",
    "\n",
    "\n",
    "\n",
    "<img src=\"https://therbootcamp.github.io/BaselRBootcamp_2018July/_sessions/Programming/image/loop.gif\" style = \"width: 600px; height: auto; margin-left: auto; margin-right: auto;margin-top:0 \"/>\n",
    "\n",
    "## General vs Dominio Específico \n",
    "\n",
    "Un ejemplo de lenguaje de dominio específico **(Mathematica)**:\n",
    "\n",
    "Aunque Mathematica está basado en C, C++ y Java, solo sirve en áreas científicas, de ingeniería, de matemática y áreas computacionales. Si nosotros quisiéramos crear un servidor web, una aplicación de escritorio con interfaz gráfica o un videojuego definitivamente Mathematica no sería una opción.\n",
    "\n",
    "\n",
    "\n",
    "\n",
    "<img src=\"https://upload.wikimedia.org/wikipedia/commons/3/3e/Mathematica_logistic_bifurcation.png\" style = \"width: 353px; height: auto; margin-left: auto; margin-right: auto;margin-top:0 \"/>\n",
    "\n",
    "### Un ejemplo de lenguaje de dominio general **(Java)**:\n",
    "\n",
    "El objetivo de este lenguaje fue que los programadores escribieran una sola vez el código de un programa y que éste pudiese ejecutarse en cualquier dispositivo/plataforma. \n",
    "\n",
    "Java es uno de los lenguajes más utilizados actualmente gracias a su uso en distintas plataformas.\n",
    "\n",
    "\n",
    "\n",
    "\n",
    "<img src=\"https://www.minecraft.net/content/dam/games/minecraft/key-art/redeem-art-minecraft-285x380.jpg\" style = \"width: 400px; height: auto; margin-left: auto; margin-right: auto;margin-top:0 \"/>\n"
   ]
  },
  {
   "cell_type": "markdown",
   "id": "a138fe2b-9134-470b-83cc-236b925d9d80",
   "metadata": {},
   "source": [
    "Why Use R?\n",
    "- It is a great resource for data analysis, data visualization, data science and machine learning\n",
    "- It provides many statistical techniques (such as statistical tests, classification, clustering and data reduction)\n",
    "- It is easy to draw graphs in R, like pie charts, histograms, box plot, scatter plot, etc++\n",
    "- It works on different platforms (Windows, Mac, Linux)\n",
    "- It is open-source and free\n",
    "- It has a large community support\n",
    "- It has many packages (libraries of functions) that can be used to solve different problems"
   ]
  },
  {
   "cell_type": "markdown",
   "id": "99b7d016-27cc-4c22-8534-fb6b8f1eaf35",
   "metadata": {},
   "source": [
    "# Operaciones y Variables.\n",
    "___"
   ]
  },
  {
   "cell_type": "markdown",
   "id": "8e904f7e-ecd3-4f2f-8d73-92ee590fc7ef",
   "metadata": {},
   "source": [
    "Como en la mayoría de lenguajes de programación, tenemos la summa $+$, resta $-$, multiplicación $*$, división $/$ y la exponenciacióm $**$. \n",
    "También, tenemos la operación de módulo, con sintaxis $%%$ , la cual nos regresa el resto de dividir un número $a$ entre un nnúmero $b$."
   ]
  },
  {
   "cell_type": "code",
   "execution_count": 12,
   "id": "fe5f079d-6f2b-4265-8927-a7fbef273e0e",
   "metadata": {},
   "outputs": [
    {
     "data": {
      "text/html": [
       "10"
      ],
      "text/latex": [
       "10"
      ],
      "text/markdown": [
       "10"
      ],
      "text/plain": [
       "[1] 10"
      ]
     },
     "metadata": {},
     "output_type": "display_data"
    }
   ],
   "source": [
    "5+5"
   ]
  },
  {
   "cell_type": "code",
   "execution_count": 14,
   "id": "a0c4240d-5b34-4038-aa4b-df382bd8e6f0",
   "metadata": {},
   "outputs": [
    {
     "data": {
      "text/html": [
       "-14"
      ],
      "text/latex": [
       "-14"
      ],
      "text/markdown": [
       "-14"
      ],
      "text/plain": [
       "[1] -14"
      ]
     },
     "metadata": {},
     "output_type": "display_data"
    }
   ],
   "source": [
    "-5+-9"
   ]
  },
  {
   "cell_type": "code",
   "execution_count": 15,
   "id": "3e2dda1a-4344-4167-ab7a-669c0ad55e99",
   "metadata": {},
   "outputs": [
    {
     "data": {
      "text/html": [
       "60"
      ],
      "text/latex": [
       "60"
      ],
      "text/markdown": [
       "60"
      ],
      "text/plain": [
       "[1] 60"
      ]
     },
     "metadata": {},
     "output_type": "display_data"
    }
   ],
   "source": [
    "12*5"
   ]
  },
  {
   "cell_type": "code",
   "execution_count": 16,
   "id": "436aba22-c4bd-416d-83b9-0507a49df129",
   "metadata": {},
   "outputs": [
    {
     "data": {
      "text/html": [
       "1"
      ],
      "text/latex": [
       "1"
      ],
      "text/markdown": [
       "1"
      ],
      "text/plain": [
       "[1] 1"
      ]
     },
     "metadata": {},
     "output_type": "display_data"
    }
   ],
   "source": [
    "25%%4"
   ]
  },
  {
   "cell_type": "code",
   "execution_count": 20,
   "id": "ffd8d557-024b-44f5-b3e2-03d9c2e6d4d2",
   "metadata": {},
   "outputs": [
    {
     "data": {
      "text/html": [
       "64"
      ],
      "text/latex": [
       "64"
      ],
      "text/markdown": [
       "64"
      ],
      "text/plain": [
       "[1] 64"
      ]
     },
     "metadata": {},
     "output_type": "display_data"
    }
   ],
   "source": [
    "2**6"
   ]
  },
  {
   "cell_type": "markdown",
   "id": "ceb7e856-90fd-4e7e-8abe-680108d08a0b",
   "metadata": {},
   "source": [
    "Para guardar la información de estas operaciones podemos usar variables. La sintaxis de la asignación en R es con el nomnbre de tu variable seguido de una flechita\n",
    "muy coqueta, con los símbolos de menor que $<$ y una guión medio $-$. \n",
    "\n",
    "nombre <- contenido de la variable\n"
   ]
  },
  {
   "cell_type": "code",
   "execution_count": 35,
   "id": "d8bceb16-9fbe-47ce-b2c8-1cf1a0a67123",
   "metadata": {},
   "outputs": [],
   "source": [
    "a <- 3.141592\n",
    "\n",
    "b <- 5+5\n",
    "\n",
    "c <- 25%%4\n",
    "\n",
    "x <- 24\n",
    "\n",
    "y <- 27"
   ]
  },
  {
   "cell_type": "markdown",
   "id": "32bdc2f6-7009-4970-9521-0bff7794cef7",
   "metadata": {},
   "source": [
    "Para llamar a nuestras variables yy ver su contenido basta con escribir el nombre dem éstas."
   ]
  },
  {
   "cell_type": "code",
   "execution_count": 24,
   "id": "54c27c13-88e1-4b9a-ad73-eccfcb627ff1",
   "metadata": {},
   "outputs": [
    {
     "data": {
      "text/html": [
       "3.141592"
      ],
      "text/latex": [
       "3.141592"
      ],
      "text/markdown": [
       "3.141592"
      ],
      "text/plain": [
       "[1] 3.141592"
      ]
     },
     "metadata": {},
     "output_type": "display_data"
    }
   ],
   "source": [
    "a"
   ]
  },
  {
   "cell_type": "code",
   "execution_count": 25,
   "id": "52632c73-6480-4261-a2d2-15853c215daa",
   "metadata": {},
   "outputs": [
    {
     "data": {
      "text/html": [
       "10"
      ],
      "text/latex": [
       "10"
      ],
      "text/markdown": [
       "10"
      ],
      "text/plain": [
       "[1] 10"
      ]
     },
     "metadata": {},
     "output_type": "display_data"
    }
   ],
   "source": [
    "b"
   ]
  },
  {
   "cell_type": "code",
   "execution_count": 26,
   "id": "be2ff6e1-a080-4ef0-9533-53ca7f1fcac7",
   "metadata": {},
   "outputs": [
    {
     "data": {
      "text/html": [
       "1"
      ],
      "text/latex": [
       "1"
      ],
      "text/markdown": [
       "1"
      ],
      "text/plain": [
       "[1] 1"
      ]
     },
     "metadata": {},
     "output_type": "display_data"
    }
   ],
   "source": [
    "c"
   ]
  },
  {
   "cell_type": "markdown",
   "id": "c7fb3d50-85f4-483e-b87e-e1c1df57e762",
   "metadata": {},
   "source": [
    "Por supuesto, poodemos ooperar estas."
   ]
  },
  {
   "cell_type": "code",
   "execution_count": 36,
   "id": "6931706c-15cb-4feb-aebb-5f88389ecc29",
   "metadata": {},
   "outputs": [
    {
     "data": {
      "text/html": [
       "51"
      ],
      "text/latex": [
       "51"
      ],
      "text/markdown": [
       "51"
      ],
      "text/plain": [
       "[1] 51"
      ]
     },
     "metadata": {},
     "output_type": "display_data"
    }
   ],
   "source": [
    "x+y"
   ]
  },
  {
   "cell_type": "markdown",
   "id": "adbbcf11-7a83-4f5e-bb67-02d6397e9950",
   "metadata": {},
   "source": [
    "También funciona para variables de texto."
   ]
  },
  {
   "cell_type": "code",
   "execution_count": 29,
   "id": "d203a81e-e09a-45cd-9c05-6df6a020213c",
   "metadata": {},
   "outputs": [],
   "source": [
    "nombre <- \"Crisel\"\n",
    "\n",
    "apellido <- \"Escalante\""
   ]
  },
  {
   "cell_type": "code",
   "execution_count": 30,
   "id": "8b4634ea-100a-468f-8dfc-87b495532ac7",
   "metadata": {},
   "outputs": [
    {
     "data": {
      "text/html": [
       "'Crisel'"
      ],
      "text/latex": [
       "'Crisel'"
      ],
      "text/markdown": [
       "'Crisel'"
      ],
      "text/plain": [
       "[1] \"Crisel\""
      ]
     },
     "metadata": {},
     "output_type": "display_data"
    }
   ],
   "source": [
    "nombre"
   ]
  },
  {
   "cell_type": "code",
   "execution_count": 31,
   "id": "d8b038f7-548c-4174-a688-c2c043ea3a58",
   "metadata": {},
   "outputs": [
    {
     "data": {
      "text/html": [
       "'Escalante'"
      ],
      "text/latex": [
       "'Escalante'"
      ],
      "text/markdown": [
       "'Escalante'"
      ],
      "text/plain": [
       "[1] \"Escalante\""
      ]
     },
     "metadata": {},
     "output_type": "display_data"
    }
   ],
   "source": [
    "apellido"
   ]
  },
  {
   "cell_type": "code",
   "execution_count": 33,
   "id": "a75130db-3f4a-4edc-aabb-ffc736025d71",
   "metadata": {},
   "outputs": [
    {
     "data": {
      "text/html": [
       "'Crisel Escalante'"
      ],
      "text/latex": [
       "'Crisel Escalante'"
      ],
      "text/markdown": [
       "'Crisel Escalante'"
      ],
      "text/plain": [
       "[1] \"Crisel Escalante\""
      ]
     },
     "metadata": {},
     "output_type": "display_data"
    }
   ],
   "source": [
    "paste(nombre, apellido)"
   ]
  },
  {
   "cell_type": "markdown",
   "id": "472e38e5-1060-44a4-b994-3686e8f16128",
   "metadata": {},
   "source": [
    "# Declaración y vectores. \n",
    "Los vectores son declarados con \"$c(a,b)$\", seguido ode la flechita coqueta de antes."
   ]
  },
  {
   "cell_type": "code",
   "execution_count": 1,
   "id": "358af61f-d9dd-4057-b781-177094a25cfa",
   "metadata": {},
   "outputs": [],
   "source": [
    "vector_uno <- c(\"Monday\", \"Tuesday\", \"Wednesday\", \"Frayday\", \"Saturday\", \"Sunday\")"
   ]
  },
  {
   "cell_type": "code",
   "execution_count": 2,
   "id": "53958368-5221-4972-9c31-fc2097d4950a",
   "metadata": {},
   "outputs": [
    {
     "data": {
      "text/html": [
       "<style>\n",
       ".list-inline {list-style: none; margin:0; padding: 0}\n",
       ".list-inline>li {display: inline-block}\n",
       ".list-inline>li:not(:last-child)::after {content: \"\\00b7\"; padding: 0 .5ex}\n",
       "</style>\n",
       "<ol class=list-inline><li>'Monday'</li><li>'Tuesday'</li><li>'Wednesday'</li><li>'Frayday'</li><li>'Saturday'</li><li>'Sunday'</li></ol>\n"
      ],
      "text/latex": [
       "\\begin{enumerate*}\n",
       "\\item 'Monday'\n",
       "\\item 'Tuesday'\n",
       "\\item 'Wednesday'\n",
       "\\item 'Frayday'\n",
       "\\item 'Saturday'\n",
       "\\item 'Sunday'\n",
       "\\end{enumerate*}\n"
      ],
      "text/markdown": [
       "1. 'Monday'\n",
       "2. 'Tuesday'\n",
       "3. 'Wednesday'\n",
       "4. 'Frayday'\n",
       "5. 'Saturday'\n",
       "6. 'Sunday'\n",
       "\n",
       "\n"
      ],
      "text/plain": [
       "[1] \"Monday\"    \"Tuesday\"   \"Wednesday\" \"Frayday\"   \"Saturday\"  \"Sunday\"   "
      ]
     },
     "metadata": {},
     "output_type": "display_data"
    }
   ],
   "source": [
    "vector_uno"
   ]
  },
  {
   "cell_type": "markdown",
   "id": "8b59c6c1-5001-45bf-8a33-5381a2e30bcf",
   "metadata": {},
   "source": [
    "Si quiero una entrada en específico, es así."
   ]
  },
  {
   "cell_type": "code",
   "execution_count": null,
   "id": "e8193fc6-e044-4fff-bca3-60d7df8d7734",
   "metadata": {},
   "outputs": [],
   "source": [
    "entrada <- vector_uno[i]"
   ]
  },
  {
   "cell_type": "markdown",
   "id": "dfa4982a-8b22-4940-9b67-faa78a8f807d",
   "metadata": {},
   "source": [
    "Si quiero varias entradas, es así:"
   ]
  },
  {
   "cell_type": "code",
   "execution_count": null,
   "id": "296e42d4-2924-4920-b2b1-39f7cd127d9d",
   "metadata": {},
   "outputs": [],
   "source": [
    "entradas<- vector_uno[c(2,5)]"
   ]
  },
  {
   "cell_type": "markdown",
   "id": "47348448-f550-4825-8ddc-88316aa9c5d8",
   "metadata": {},
   "source": [
    "O con los elementos de las entradas explicitamente. \n",
    "\n",
    "Se le puede poner nombres a las entradas de un vector así."
   ]
  },
  {
   "cell_type": "code",
   "execution_count": null,
   "id": "15527a69-7c2d-40b2-92d5-da7204dda8d5",
   "metadata": {},
   "outputs": [],
   "source": [
    "poker-vector <- c(140, -50, 20, -120, 240)\n",
    "days_vector <- c(\"Monday\", \"Tuesday\", \"Wednesday\", \"Thursday\", \"Friday\")\n",
    "names(poker_vector) <- days_vector"
   ]
  },
  {
   "cell_type": "markdown",
   "id": "4df7d6c0-870f-43f8-9892-57d5c578fd50",
   "metadata": {},
   "source": [
    "Podemos obtener los elementos seleccionados asi:"
   ]
  },
  {
   "cell_type": "code",
   "execution_count": null,
   "id": "c6b7d9b8-91c2-42af-8514-a5dd95931446",
   "metadata": {},
   "outputs": [],
   "source": [
    "vector[selectionvector]"
   ]
  },
  {
   "cell_type": "markdown",
   "id": "6fffd724-7721-4d1d-8c0c-ba5006304ce7",
   "metadata": {},
   "source": [
    "# Matrices.\n",
    "___\n",
    "\n",
    "Se declaran así"
   ]
  },
  {
   "cell_type": "code",
   "execution_count": null,
   "id": "84751daa-27a6-4796-987e-7694d0de43e7",
   "metadata": {},
   "outputs": [],
   "source": [
    "matrix(1:9, byrow = TRUE, nrow = 3)"
   ]
  },
  {
   "cell_type": "code",
   "execution_count": null,
   "id": "e2efed2f-289d-4f0c-ace1-9f19694ee327",
   "metadata": {},
   "outputs": [],
   "source": [
    "rowSums() calcula la suma de una fila en específico. "
   ]
  },
  {
   "cell_type": "markdown",
   "id": "567328f6-98f6-4c10-b3dd-d9f0c56ed347",
   "metadata": {},
   "source": [
    "You can add a column or multiple columns to a matrix with the cbind() function, which merges matrices and/or vectors together by column. For example:"
   ]
  },
  {
   "cell_type": "code",
   "execution_count": null,
   "id": "7c4a99f8-bf5b-4b34-82c8-7febb4705f39",
   "metadata": {},
   "outputs": [],
   "source": [
    "big_matrix <- cbind(matrix1, matrix2, vector1 ...)"
   ]
  },
  {
   "cell_type": "markdown",
   "id": "cebdc137-0a72-4209-806e-25aa8cb13ba9",
   "metadata": {},
   "source": [
    "Los siguientes comandos nos ayudan a sumar columnas o filas"
   ]
  },
  {
   "cell_type": "code",
   "execution_count": null,
   "id": "ef9f1b54-ae57-4020-8395-9325b60cd9bc",
   "metadata": {},
   "outputs": [],
   "source": [
    "colSums() rowSums"
   ]
  },
  {
   "cell_type": "markdown",
   "id": "9652478e-c21f-48f4-82a1-3367d8d01fce",
   "metadata": {},
   "source": [
    "Para elejir elementos específicos, el primer argumento son filas y el segndo, luego de la coma, con columnas."
   ]
  },
  {
   "cell_type": "code",
   "execution_count": null,
   "id": "68ecff16-39fa-4dd0-a8dd-9f704c187772",
   "metadata": {},
   "outputs": [],
   "source": [
    "my_matrix[1:3,2:4]"
   ]
  },
  {
   "cell_type": "markdown",
   "id": "a31788cd-08ea-43c1-b063-7ce281569b6a",
   "metadata": {},
   "source": [
    "La función mean() saca el promedio de vectores. "
   ]
  },
  {
   "cell_type": "code",
   "execution_count": null,
   "id": "a889ab77-708f-4002-bcfc-4de5e0ecdbde",
   "metadata": {},
   "outputs": [],
   "source": [
    "mean(vector)\n",
    "\n",
    "#promedio de la segunda columna de mi matriz\n",
    "mean(my_matrix[,2])"
   ]
  },
  {
   "cell_type": "markdown",
   "id": "cedba816-9915-4b83-b1a3-1f65487f2d50",
   "metadata": {},
   "source": [
    "A diferencia de otros lenguajes, $2 *$ my_matrix multiplica cada elemento d ela matriz por dos, matrix $/ 5$ divide cada elemento entre 5.\n",
    "Y lo más sorprendente, my_matrix1 * my_matrix2 genera perfectamente el producto de dos matrices. También, podemos declarar un vector y una matriz para dividir cada elemento de la matriz entre el elemento específico del vector. ¡Toma eso python!"
   ]
  },
  {
   "cell_type": "code",
   "execution_count": null,
   "id": "2b7c413a-64b0-4b83-ba53-2f8b2eede9a7",
   "metadata": {},
   "outputs": [],
   "source": [
    "# all_wars_matrix and ticket_prices_matrix are available in your workspace\n",
    "all_wars_matrix\n",
    "ticket_prices_matrix\n",
    "\n",
    "# Estimated number of visitors\n",
    "visitors <- all_wars_matrix /  ticket_prices_matrix"
   ]
  },
  {
   "cell_type": "markdown",
   "id": "6d9b2b8e-39a2-4c73-84dc-79b639fec484",
   "metadata": {},
   "source": [
    "# Factors.\n",
    "___\n",
    "\n",
    "The term factor refers to a statistical data type used to store categorical variables. The difference between a categorical variable and a continuous variable is that a categorical variable can belong to a limited number of categories. A continuous variable, on the other hand, can correspond to an infinite number of values.\n",
    "A good example of a categorical variable is sex. In many circumstances you can limit the sex categories to \"Male\" or \"Female\". (Sometimes you may need different categories. For example, you may need to consider chromosomal variation, hermaphroditic animals, or different cultural norms, but you will always have a finite number of categories.)\n",
    "Podemos convertir un vector a un factor con la función factor()."
   ]
  },
  {
   "cell_type": "code",
   "execution_count": null,
   "id": "bef74092-63dd-4ccf-81e1-b5a6fd922b96",
   "metadata": {},
   "outputs": [],
   "source": [
    "# Sex vector\n",
    "sex_vector <- c(\"Male\", \"Female\", \"Female\", \"Male\", \"Male\")\n",
    "\n",
    "# Convert sex_vector to a factor\n",
    "factor_sex_vector <- factor(sex_vector)\n",
    "\n",
    "# Print out factor_sex_vector\n",
    "factor_sex_vector"
   ]
  },
  {
   "cell_type": "markdown",
   "id": "4b9a7e81-b2cd-49c4-9c66-aa52921089c3",
   "metadata": {},
   "source": [
    "What's a factor and why would you use it? \n",
    "There are two types of categorical variables: a nominal categorical variable and an ordinal categorical variable.\n",
    "\n",
    "A nominal variable is a categorical variable without an implied order. This means that it is impossible to say that 'one is worth more than the other'. For example, think of the categorical variable animals_vector with the categories \"Elephant\", \"Giraffe\", \"Donkey\" and \"Horse\". Here, it is impossible to say that one stands above or below the other. (Note that some of you might disagree ;-) ).\n",
    "\n",
    "In contrast, ordinal variables do have a natural ordering. Consider for example the categorical variable temperature_vector with the categories: \"Low\", \"Medium\" and \"High\". Here it is obvious that \"Medium\" stands above \"Low\", and \"High\" stands above \"Medium\"."
   ]
  },
  {
   "cell_type": "code",
   "execution_count": null,
   "id": "bb11a027-9872-46fb-b06d-6a0cae6e718a",
   "metadata": {},
   "outputs": [],
   "source": [
    "# Animals\n",
    "animals_vector <- c(\"Elephant\", \"Giraffe\", \"Donkey\", \"Horse\")\n",
    "factor_animals_vector <- factor(animals_vector)\n",
    "factor_animals_vector\n",
    "\n",
    "# Temperature\n",
    "temperature_vector <- c(\"High\", \"Low\", \"High\",\"Low\", \"Medium\")\n",
    "factor_temperature_vector <- factor(temperature_vector, order = TRUE, levels = c(\"Low\", \"Medium\", \"High\"))\n",
    "factor_temperature_vector"
   ]
  },
  {
   "cell_type": "markdown",
   "id": "0d548a49-0e25-4e65-8da9-1ceaa69254ee",
   "metadata": {},
   "source": [
    "Le podemos dar el orden que queramos, si no lo hacemos, R ordenara lexicograficamente."
   ]
  },
  {
   "cell_type": "code",
   "execution_count": null,
   "id": "96ddf02e-f694-4d98-a349-b1496245237b",
   "metadata": {},
   "outputs": [],
   "source": [
    "# Code to build factor_survey_vector\n",
    "survey_vector <- c(\"M\", \"F\", \"F\", \"M\", \"M\")\n",
    "factor_survey_vector <- factor(survey_vector)\n",
    "\n",
    "# Specify the levels of factor_survey_vector\n",
    "levels(factor_survey_vector) <- c(\"Female\", \"Male\")\n",
    "\n",
    "factor_survey_vector"
   ]
  },
  {
   "cell_type": "markdown",
   "id": "af044a3d-9c24-43ee-b672-3442ef929d87",
   "metadata": {},
   "source": [
    "Going back to our survey, you would like to know how many \"Male\" responses you have in your study, and how many \"Female\" responses. The summary() function gives you the answer to this question."
   ]
  },
  {
   "cell_type": "code",
   "execution_count": null,
   "id": "9914a40d-56c4-4c35-9340-dd73451833a2",
   "metadata": {},
   "outputs": [],
   "source": [
    "# Build factor_survey_vector with clean levels\n",
    "survey_vector <- c(\"M\", \"F\", \"F\", \"M\", \"M\")\n",
    "factor_survey_vector <- factor(survey_vector)\n",
    "levels(factor_survey_vector) <- c(\"Female\", \"Male\")\n",
    "factor_survey_vector\n",
    "\n",
    "# Generate summary for survey_vector\n",
    "summary(survey_vector)\n",
    "\n",
    "# Generate summary for factor_survey_vector\n",
    "summary(factor_survey_vector)"
   ]
  },
  {
   "cell_type": "markdown",
   "id": "54cbc0e8-459b-440e-b3e7-4918eb5bd7f5",
   "metadata": {},
   "source": [
    "Podemos hacerlo el menos líneas."
   ]
  },
  {
   "cell_type": "code",
   "execution_count": null,
   "id": "4bdc794e-4e43-4b8f-8e99-6b64982b08f5",
   "metadata": {},
   "outputs": [],
   "source": [
    "factor(some_vector,\n",
    "       ordered = TRUE,\n",
    "       levels = c(\"lev1\", \"lev2\" ...))"
   ]
  },
  {
   "cell_type": "markdown",
   "id": "333f80cf-3652-448e-b36c-81d1f1342f18",
   "metadata": {},
   "source": [
    "By setting the argument ordered to TRUE in the function factor(), you indicate that the factor is ordered. With the argument levels you give the values of the factor in the correct order."
   ]
  },
  {
   "cell_type": "code",
   "execution_count": null,
   "id": "3bdec7ba-9658-4d30-81a9-5f8faece8cf7",
   "metadata": {},
   "outputs": [],
   "source": [
    "# Create speed_vector\n",
    "speed_vector <- c(\"medium\", \"slow\", \"slow\", \"medium\", \"fast\")\n",
    "\n",
    "# Convert speed_vector to ordered factor vector\n",
    "factor_speed_vector <- factor(speed_vector, \n",
    "ordered = TRUE, levels = c(\"slow\", \"medium\", \"fast\"))\n",
    "\n",
    "\n",
    "\n",
    "\n",
    "# Print factor_speed_vector\n",
    "factor_speed_vector\n",
    "summary(factor_speed_vector)"
   ]
  },
  {
   "cell_type": "markdown",
   "id": "008bb844-c8f7-44f4-b588-874e4824c7be",
   "metadata": {},
   "source": [
    "# Data Frame.\n",
    "___"
   ]
  },
  {
   "cell_type": "code",
   "execution_count": null,
   "id": "07a96fb5-aaba-4433-9505-7ef3c3d0fdb3",
   "metadata": {},
   "outputs": [],
   "source": [
    "# planets_df is pre-loaded in your workspace\n",
    "\n",
    "# Select the rings variable from planets_df\n",
    "#asi puedes ver o asignar una columna o fila en especifico con su nombre owo\n",
    "rings_vector <- planets_df$rings\n",
    "  \n",
    "# Print out rings_vector\n",
    "rings_vector"
   ]
  },
  {
   "cell_type": "code",
   "execution_count": null,
   "id": "8ca93aa1-d676-482f-ab04-8cff5b2a3f59",
   "metadata": {},
   "outputs": [],
   "source": [
    "# planets_df and rings_vector are pre-loaded in your workspace\n",
    "\n",
    "# Adapt the code to select all columns for planets with rings\n",
    "planets_df[rings_vector,]"
   ]
  },
  {
   "cell_type": "code",
   "execution_count": null,
   "id": "911f5671-5e1c-461d-8703-32cd8d681ca3",
   "metadata": {},
   "outputs": [],
   "source": [
    "# planets_df is pre-loaded in your workspace\n",
    "\n",
    "# Select planets with diameter < 1\n",
    "subset(planets_df, subset = planets_df$diameter  < 1)\n"
   ]
  },
  {
   "cell_type": "code",
   "execution_count": null,
   "id": "cb50977c-7b0a-4ab5-bfd2-27fb03349e2d",
   "metadata": {},
   "outputs": [],
   "source": [
    "# planets_df is pre-loaded in your workspace\n",
    "\n",
    "# Use order() to create positions\n",
    "positions <-  order(planets_df$diameter)\n",
    "\n",
    "# Use positions to sort planets_df\n",
    "planets_df[positions,]"
   ]
  },
  {
   "cell_type": "code",
   "execution_count": null,
   "id": "9d3b3ee1-6586-4763-b4e7-735a50387de0",
   "metadata": {},
   "outputs": [],
   "source": [
    "# Vector with numerics from 1 up to 10\n",
    "my_vector <- 1:10 \n",
    "\n",
    "# Matrix with numerics from 1 up to 9\n",
    "my_matrix <- matrix(1:9, ncol = 3)\n",
    "\n",
    "# First 10 elements of the built-in data frame mtcars\n",
    "my_df <- mtcars[1:10,]\n",
    "\n",
    "# Construct list with these different elements:\n",
    "my_list <- list(my_vector, my_matrix, my_df)"
   ]
  },
  {
   "cell_type": "code",
   "execution_count": null,
   "id": "3ceeaf5c-b480-4e7e-8860-624453897ad4",
   "metadata": {},
   "outputs": [],
   "source": [
    "# Vector with numerics from 1 up to 10\n",
    "my_vector <- 1:10 \n",
    "\n",
    "# Matrix with numerics from 1 up to 9\n",
    "my_matrix <- matrix(1:9, ncol = 3)\n",
    "\n",
    "# First 10 elements of the built-in data frame mtcars\n",
    "my_df <- mtcars[1:10,]\n",
    "\n",
    "# Adapt list() call to give the components names\n",
    "my_list <- list(vec = my_vector, mat = my_matrix, df = my_df)\n",
    "\n",
    "# Print out my_list\n",
    "my_list"
   ]
  },
  {
   "cell_type": "code",
   "execution_count": null,
   "id": "986a31b8-be8d-45b8-85c0-6051952cf6a4",
   "metadata": {},
   "outputs": [],
   "source": [
    "# shining_list is already pre-loaded in the workspace\n",
    "\n",
    "# Print out the vector representing the actors\n",
    "shining_list$actors\n",
    "\n",
    "\n",
    "# Print the second element of the vector representing the actors\n",
    "shining_list[[2]][2]"
   ]
  },
  {
   "cell_type": "code",
   "execution_count": null,
   "id": "f0b37000-a978-417b-96d4-3d2bfd2db582",
   "metadata": {},
   "outputs": [],
   "source": [
    "# Use the table from the exercise to define the comments and scores vectors\n",
    "scores <- c(4.6, 5, 4.8, 5, 4.2)\n",
    "comments <- c(\"I would watch it again\", \"Amazing!\", \"I liked it\", \"One of the best movies\", \"Fascinating plot\" )\n",
    "\n",
    "# Save the average of the scores vector as avg_review\n",
    "avg_review <- mean(scores)\n",
    "\n",
    "\n",
    "# Combine scores and comments into the reviews_df data frame\n",
    "reviews_df <- data.frame(scores, comments)\n",
    "\n",
    "\n",
    "# Create and print out a list, called departed_list\n",
    "departed_list <- list(movie_title, movie_actors, reviews_df, avg_review)\n",
    "\n",
    "departed_list\n"
   ]
  }
 ],
 "metadata": {
  "kernelspec": {
   "display_name": "R",
   "language": "R",
   "name": "ir"
  },
  "language_info": {
   "codemirror_mode": "r",
   "file_extension": ".r",
   "mimetype": "text/x-r-source",
   "name": "R",
   "pygments_lexer": "r",
   "version": "4.2.1"
  }
 },
 "nbformat": 4,
 "nbformat_minor": 5
}
